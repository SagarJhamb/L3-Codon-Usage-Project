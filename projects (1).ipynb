{
 "cells": [
  {
   "cell_type": "code",
   "execution_count": 176,
   "metadata": {},
   "outputs": [],
   "source": [
    "from Bio import SeqIO\n",
    "\n",
    "def removehyphen(filepath):\n",
    "    \"\"\"This program deletes hypens inserted into dmel and also deletes the base pair in the corresponding locations within\n",
    "    outgroup sequences.\n",
    "    \n",
    "    Details of the program:\n",
    "    1) The  sequences are in a fasta file and in the order Dmel, Dyak and Dsec.\n",
    "    2) You must provide the filepath of the fasta files. Example is shown above. \n",
    "    3) The output file will be in the directory of the input file with the name \"DeletedHyphens.fas\"\n",
    "    4) Install the library BioPython via pip and import the SeqIO module\n",
    "    \n",
    "    Written in Python 3.7 \n",
    "    \"\"\"\n",
    "    seq_dict = {rec.id : rec.seq for rec in SeqIO.parse(filepath+\"/outgroup_aligned.fas\", \"fasta\")}\n",
    "    dmel = list(seq_dict[\"dmel\"])\n",
    "    dyak = list(seq_dict[\"dyak\"])\n",
    "    dsec = list(seq_dict[\"dsec\"])\n",
    "    \n",
    "    while \"-\" in dmel: \n",
    "        for index, letter in enumerate(dmel):\n",
    "            if letter == \"-\":\n",
    "                del dmel[index]\n",
    "                del dyak[index]\n",
    "                del dsec[index]\n",
    "            \n",
    "    dmelstring = \"\"\n",
    "    for letter in dmel:\n",
    "        dmelstring+=letter\n",
    "    \n",
    "\n",
    "    dyakstring = \"\"\n",
    "    for letter in dyak:\n",
    "        dyakstring+=letter\n",
    "\n",
    "\n",
    "    dsecstring = \"\"\n",
    "    for letter in dsec:\n",
    "        dsecstring+=letter\n",
    "    \n",
    "    \n",
    "    sequences = [dmelstring,dyakstring,dsecstring]\n",
    "    headers = [\"dmel\",\"dyak\",\"dsec\"]\n",
    "    \n",
    "    with open(filepath+\"/DeletedHyphen.fas\",\"w\") as f:\n",
    "        for i in range(len(sequences)):\n",
    "            f.write(\">\"+headers[i] + \"\\n\"+sequences[i]+ \"\\n\")\n",
    "\n",
    "            \n",
    "    "
   ]
  },
  {
   "cell_type": "code",
   "execution_count": 177,
   "metadata": {},
   "outputs": [],
   "source": [
    "filepath = 'C:/Users/sagar/OneDrive/Desktop/L3 PROJECTS/Codon Usage Project/Sequences for expression data/FBgn0041242'\n",
    "\n",
    "removehyphen(filepath)"
   ]
  }
 ],
 "metadata": {
  "kernelspec": {
   "display_name": "Python 3",
   "language": "python",
   "name": "python3"
  },
  "language_info": {
   "codemirror_mode": {
    "name": "ipython",
    "version": 3
   },
   "file_extension": ".py",
   "mimetype": "text/x-python",
   "name": "python",
   "nbconvert_exporter": "python",
   "pygments_lexer": "ipython3",
   "version": "3.6.5"
  }
 },
 "nbformat": 4,
 "nbformat_minor": 2
}
