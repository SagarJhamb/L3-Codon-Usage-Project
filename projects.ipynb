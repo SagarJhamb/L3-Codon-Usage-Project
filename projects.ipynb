{
 "cells": [
  {
   "cell_type": "code",
   "execution_count": 176,
   "metadata": {},
   "outputs": [],
   "source": [
    "from Bio import SeqIO\n",
    "filepath = 'C:/Users/sagar/OneDrive/Desktop/L3 PROJECTS/Codon Usage Project/Sequences for expression data/FBgn0041242'\n",
    "\n",
    "def removehyphen(filepath):\n",
    "    \"\"\"This program deletes hypens inserted into dmel and also deletes the base pair in the corresponding locations within\n",
    "    outgroup sequences.\n",
    "    \n",
    "    Details of the program:\n",
    "    1) The  sequences are in a fasta file and in the order Dmel, Dyak and Dsec.\n",
    "    2) You must provide the filepath of the fasta files. Example is shown above. \n",
    "    3) The output file will be in the directory of the input file with the name \"DeletedHyphens.fas\"\n",
    "    4) Install the library BioPython via pip and import the SeqIO module\n",
    "    \n",
    "    Written in Python 3.7 by Sagar Jhamb \n",
    "    \"\"\"\n",
    "    seq_dict = {rec.id : rec.seq for rec in SeqIO.parse(filepath+\"/outgroup_aligned.fas\", \"fasta\")}\n",
    "    dmel = list(seq_dict[\"dmel\"])\n",
    "    dyak = list(seq_dict[\"dyak\"])\n",
    "    dsec = list(seq_dict[\"dsec\"])\n",
    "    \n",
    "    while \"-\" in dmel: \n",
    "        for index, letter in enumerate(dmel):\n",
    "            if letter == \"-\":\n",
    "                del dmel[index]\n",
    "                del dyak[index]\n",
    "                del dsec[index]\n",
    "            \n",
    "    dmelstring = \"\"\n",
    "    for letter in dmel:\n",
    "        dmelstring+=letter\n",
    "    \n",
    "\n",
    "    dyakstring = \"\"\n",
    "    for letter in dyak:\n",
    "        dyakstring+=letter\n",
    "\n",
    "\n",
    "    dsecstring = \"\"\n",
    "    for letter in dsec:\n",
    "        dsecstring+=letter\n",
    "    \n",
    "    \n",
    "    sequences = [dmelstring,dyakstring,dsecstring]\n",
    "    headers = [\"dmel\",\"dyak\",\"dsec\"]\n",
    "    \n",
    "    with open(filepath+\"/DeletedHyphen.fas\",\"w\") as f:\n",
    "        for i in range(len(sequences)):\n",
    "            f.write(\">\"+headers[i] + \"\\n\"+sequences[i]+ \"\\n\")\n",
    "\n",
    "            \n",
    "    "
   ]
  },
  {
   "cell_type": "code",
   "execution_count": 177,
   "metadata": {},
   "outputs": [],
   "source": [
    "removehyphen(filepath)"
   ]
  },
  {
   "cell_type": "code",
   "execution_count": 49,
   "metadata": {},
   "outputs": [],
   "source": [
    "from Bio import SeqIO\n",
    "seq_dict = {rec.id : rec.seq for rec in SeqIO.parse(filepath+\"/outgroup_aligned.fas\", \"fasta\")}"
   ]
  },
  {
   "cell_type": "code",
   "execution_count": 50,
   "metadata": {},
   "outputs": [
    {
     "data": {
      "text/plain": [
       "{'dmel': Seq('ATGACTAAGACAACGATGCATTGGCTGGCTCACTTCCAGATCATCTTGCTATgt...TAA', SingleLetterAlphabet()),\n",
       " 'dyak': Seq('ATGACCAAGACAACGATGCATTGGCTGGCGCACCTCCAGATCATCGTGCTATGT...---', SingleLetterAlphabet()),\n",
       " 'dsec': Seq('---ACTAAGACAACGATGCATTGGCTGGCTCACTTCCAGATCATCTTGCTATGT...TAA', SingleLetterAlphabet())}"
      ]
     },
     "execution_count": 50,
     "metadata": {},
     "output_type": "execute_result"
    }
   ],
   "source": [
    "seq_dict"
   ]
  },
  {
   "cell_type": "code",
   "execution_count": 51,
   "metadata": {},
   "outputs": [],
   "source": [
    "dmel = list(seq_dict[\"dmel\"])\n",
    "dyak = list(seq_dict[\"dyak\"])\n",
    "dsec = list(seq_dict[\"dsec\"])"
   ]
  },
  {
   "cell_type": "code",
   "execution_count": 52,
   "metadata": {},
   "outputs": [],
   "source": [
    "while \"-\" in dmel: \n",
    "    for index, letter in enumerate(dmel):\n",
    "        if letter == \"-\":\n",
    "            del dmel[index]\n",
    "            del dyak[index]\n",
    "            del dsec[index]"
   ]
  },
  {
   "cell_type": "code",
   "execution_count": 53,
   "metadata": {},
   "outputs": [
    {
     "data": {
      "text/plain": [
       "'ATGACTAAGACAACGATGCATTGGCTGGCTCACTTCCAGATCATCTTGCTATgtgagtttcaactaagagcaatcattgtttaggttttgtaactaaatctttggcttatcaagGCATTTGGTTGATGTGCCCCCCCAGTTCGCAGGCCATAAAATGCGACACTTGTGGCAAGGAGTGTGCCAGCGCATGTGGCACAAAGCACTTTCGgtaagctaacatattcaaagagttcgccaagtgatatacattttactactccagCACATGCTGCTTTAACTACCTTCGCAAGCGATCCGACCCCGATGCACTGCGTCAGAGCTCGAACAGGAGGCTCATCGACTTCATACTGCTGCAGGGGCGTGCCCTCTTCACCCAGGAGTTGCGAGAAAGGCGCCACAATGGCACATTGATGGACCTCGGCCTGAACACCTACTACCCCTAA'"
      ]
     },
     "execution_count": 53,
     "metadata": {},
     "output_type": "execute_result"
    }
   ],
   "source": [
    "dmelstring = \"\"\n",
    "for letter in dmel:\n",
    "    dmelstring+=letter\n",
    "dmelstring\n",
    "\n",
    "dyakstring = \"\"\n",
    "for letter in dyak:\n",
    "    dyakstring+=letter\n",
    "\n",
    "\n",
    "dsecstring = \"\"\n",
    "for letter in dsec:\n",
    "    dsecstring+=letter\n",
    "dmelstring"
   ]
  },
  {
   "cell_type": "code",
   "execution_count": 54,
   "metadata": {},
   "outputs": [],
   "source": [
    "sequences = [dmelstring,dyakstring,dsecstring]\n",
    "headers = [\"dmel\",\"dyak\",\"dsec\"]"
   ]
  },
  {
   "cell_type": "code",
   "execution_count": 55,
   "metadata": {},
   "outputs": [],
   "source": [
    "with open(filepath+\"/test.fas\",\"w\") as f:\n",
    "    for i in range(len(sequences)):\n",
    "        f.write(\">\"+headers[i] + \"\\n\"+sequences[i]+ \"\\n\")"
   ]
  },
  {
   "cell_type": "code",
   "execution_count": 56,
   "metadata": {},
   "outputs": [
    {
     "data": {
      "text/plain": [
       "False"
      ]
     },
     "execution_count": 56,
     "metadata": {},
     "output_type": "execute_result"
    }
   ],
   "source": [
    "'-' in dmel"
   ]
  },
  {
   "cell_type": "code",
   "execution_count": 57,
   "metadata": {},
   "outputs": [],
   "source": [
    "for index, value in enumerate(dmel):\n",
    "    if value == \"-\":\n",
    "        print(index)"
   ]
  },
  {
   "cell_type": "code",
   "execution_count": 58,
   "metadata": {},
   "outputs": [
    {
     "data": {
      "text/plain": [
       "443"
      ]
     },
     "execution_count": 58,
     "metadata": {},
     "output_type": "execute_result"
    }
   ],
   "source": [
    "len(dmel)"
   ]
  },
  {
   "cell_type": "code",
   "execution_count": null,
   "metadata": {},
   "outputs": [],
   "source": []
  },
  {
   "cell_type": "code",
   "execution_count": null,
   "metadata": {},
   "outputs": [],
   "source": []
  },
  {
   "cell_type": "code",
   "execution_count": null,
   "metadata": {},
   "outputs": [],
   "source": []
  },
  {
   "cell_type": "code",
   "execution_count": null,
   "metadata": {},
   "outputs": [],
   "source": []
  },
  {
   "cell_type": "code",
   "execution_count": null,
   "metadata": {},
   "outputs": [],
   "source": []
  },
  {
   "cell_type": "code",
   "execution_count": null,
   "metadata": {},
   "outputs": [],
   "source": []
  },
  {
   "cell_type": "code",
   "execution_count": null,
   "metadata": {},
   "outputs": [],
   "source": []
  },
  {
   "cell_type": "code",
   "execution_count": null,
   "metadata": {},
   "outputs": [],
   "source": []
  },
  {
   "cell_type": "code",
   "execution_count": null,
   "metadata": {},
   "outputs": [],
   "source": []
  },
  {
   "cell_type": "code",
   "execution_count": null,
   "metadata": {},
   "outputs": [],
   "source": []
  },
  {
   "cell_type": "code",
   "execution_count": null,
   "metadata": {},
   "outputs": [],
   "source": []
  },
  {
   "cell_type": "code",
   "execution_count": null,
   "metadata": {},
   "outputs": [],
   "source": []
  },
  {
   "cell_type": "code",
   "execution_count": null,
   "metadata": {},
   "outputs": [],
   "source": []
  },
  {
   "cell_type": "code",
   "execution_count": null,
   "metadata": {},
   "outputs": [],
   "source": []
  },
  {
   "cell_type": "code",
   "execution_count": 149,
   "metadata": {},
   "outputs": [],
   "source": [
    "def make_album(artist, album, tracks = \"\"):\n",
    "    thealbum = {\"artist\":artist, \"album\":album}\n",
    "    if tracks:\n",
    "        thealbum[\"tracks\"] = tracks \n",
    "    print(thealbum)\n",
    "    \n",
    "    "
   ]
  },
  {
   "cell_type": "code",
   "execution_count": 150,
   "metadata": {},
   "outputs": [
    {
     "name": "stdout",
     "output_type": "stream",
     "text": [
      "artist; d\n",
      "album: d\n",
      "{'artist': 'd', 'album': 'd'}\n",
      "artist; d\n",
      "album: d\n",
      "{'artist': 'd', 'album': 'd'}\n",
      "artist; q\n"
     ]
    }
   ],
   "source": [
    "active = True\n",
    "while active:\n",
    "    artist = input(\"artist; \")\n",
    "    if artist == \"q\":\n",
    "        break\n",
    "        \n",
    "    album = input(\"album: \")\n",
    "    \n",
    "    if album == \"q\":\n",
    "        break\n",
    "        \n",
    "    hello = make_album(artist,album)\n",
    "    \n"
   ]
  },
  {
   "cell_type": "code",
   "execution_count": 154,
   "metadata": {},
   "outputs": [
    {
     "name": "stdout",
     "output_type": "stream",
     "text": [
      "Adding salami to the sandwich\n",
      "Adding tuna to the sandwich\n",
      "Adding pasta to the sandwich\n"
     ]
    }
   ],
   "source": [
    "#Arbitary number of arguments \n",
    "def make_sandwich(*fillings):\n",
    "    for filling in fillings:\n",
    "        print(\"Adding\", filling, \"to the sandwich\")\n",
    "        \n",
    "\n",
    "make_sandwich(\"salami\",\"tuna\",\"pasta\")"
   ]
  },
  {
   "cell_type": "code",
   "execution_count": 162,
   "metadata": {},
   "outputs": [
    {
     "data": {
      "text/plain": [
       "{'first': 'sagar', 'last': 'Jhamb', 'location': 'swindon'}"
      ]
     },
     "execution_count": 162,
     "metadata": {},
     "output_type": "execute_result"
    }
   ],
   "source": [
    "def build_profile(first, last, **additional):\n",
    "    profile = {}\n",
    "    profile[\"first\"] = first\n",
    "    profile[\"last\"] = last\n",
    "    for key, value in additional.items():\n",
    "        profile[key] = value\n",
    "    return profile\n",
    "\n",
    "build_profile(\"sagar\",\"Jhamb\",location = \"swindon\")"
   ]
  },
  {
   "cell_type": "code",
   "execution_count": 163,
   "metadata": {},
   "outputs": [
    {
     "data": {
      "text/plain": [
       "{'manufacturer': 'merc', 'model': 'eclass', 'colour': 'red', 'engine': 4}"
      ]
     },
     "execution_count": 163,
     "metadata": {},
     "output_type": "execute_result"
    }
   ],
   "source": [
    "def car(manu, model, **additional):\n",
    "        car = {}\n",
    "        car[\"manufacturer\"] = manu\n",
    "        car[\"model\"] = model\n",
    "        for key, value in additional.items():\n",
    "            car[key] = value\n",
    "        return car\n",
    "\n",
    "car(\"merc\",\"eclass\",colour = \"red\",engine = 4)"
   ]
  },
  {
   "cell_type": "code",
   "execution_count": null,
   "metadata": {},
   "outputs": [],
   "source": []
  }
 ],
 "metadata": {
  "kernelspec": {
   "display_name": "Python 3",
   "language": "python",
   "name": "python3"
  },
  "language_info": {
   "codemirror_mode": {
    "name": "ipython",
    "version": 3
   },
   "file_extension": ".py",
   "mimetype": "text/x-python",
   "name": "python",
   "nbconvert_exporter": "python",
   "pygments_lexer": "ipython3",
   "version": "3.6.5"
  }
 },
 "nbformat": 4,
 "nbformat_minor": 2
}
